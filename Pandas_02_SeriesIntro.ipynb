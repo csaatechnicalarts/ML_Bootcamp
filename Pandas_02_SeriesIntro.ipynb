{
  "nbformat": 4,
  "nbformat_minor": 0,
  "metadata": {
    "colab": {
      "provenance": [],
      "authorship_tag": "ABX9TyMKQl2JAMD90K2ZiTSDMLNx",
      "include_colab_link": true
    },
    "kernelspec": {
      "name": "python3",
      "display_name": "Python 3"
    },
    "language_info": {
      "name": "python"
    }
  },
  "cells": [
    {
      "cell_type": "markdown",
      "metadata": {
        "id": "view-in-github",
        "colab_type": "text"
      },
      "source": [
        "<a href=\"https://colab.research.google.com/github/csaatechnicalarts/ML_Bootcamp/blob/main/Pandas_02_SeriesIntro.ipynb\" target=\"_parent\"><img src=\"https://colab.research.google.com/assets/colab-badge.svg\" alt=\"Open In Colab\"/></a>"
      ]
    },
    {
      "cell_type": "markdown",
      "source": [
        "#02 Pandas Data Structure: Series"
      ],
      "metadata": {
        "id": "vAnqiMwgNFQk"
      }
    },
    {
      "cell_type": "markdown",
      "source": [
        "In Pandas the *series* is one of the core data structures for computation.  A series is a one-dimensional array with labeled index. Like a Python array, a series is an ordered data type: it's elements can be indexed with the **[ ]** notation. Element types can be heterogeneous; the index must be a hashable type.While each element of a series is mutable, the length of the series itself can never be updated.\n",
        "\n",
        "For this notebook, we're going to demonstrate Pandas series using \"ww2_leaders.csv\" file that we load before hand to Google Colab."
      ],
      "metadata": {
        "id": "-Y67BnpDQGnC"
      }
    },
    {
      "cell_type": "code",
      "source": [
        "import pandas as pd\n",
        "import matplotlib.pyplot as plt"
      ],
      "metadata": {
        "id": "XgskJsfBSKh1"
      },
      "execution_count": 14,
      "outputs": []
    },
    {
      "cell_type": "code",
      "source": [
        "df = pd.read_csv(\"sample_data/ww2_leaders.csv\")\n",
        "df.info()"
      ],
      "metadata": {
        "colab": {
          "base_uri": "https://localhost:8080/"
        },
        "id": "WCPZF5L9STGd",
        "outputId": "b1b9266f-2372-42d2-a39b-d0f2f54d378a"
      },
      "execution_count": 15,
      "outputs": [
        {
          "output_type": "stream",
          "name": "stdout",
          "text": [
            "<class 'pandas.core.frame.DataFrame'>\n",
            "RangeIndex: 12 entries, 0 to 11\n",
            "Data columns (total 6 columns):\n",
            " #   Column   Non-Null Count  Dtype \n",
            "---  ------   --------------  ----- \n",
            " 0   Name     12 non-null     object\n",
            " 1   Born     12 non-null     object\n",
            " 2   Died     12 non-null     object\n",
            " 3   Age      12 non-null     int64 \n",
            " 4   Title    12 non-null     object\n",
            " 5   Country  12 non-null     object\n",
            "dtypes: int64(1), object(5)\n",
            "memory usage: 708.0+ bytes\n"
          ]
        }
      ]
    },
    {
      "cell_type": "code",
      "source": [
        "df"
      ],
      "metadata": {
        "colab": {
          "base_uri": "https://localhost:8080/",
          "height": 426
        },
        "id": "C7GshVQHStB5",
        "outputId": "dd84b791-b8c1-452c-8aba-6996de1788c3"
      },
      "execution_count": 16,
      "outputs": [
        {
          "output_type": "execute_result",
          "data": {
            "text/plain": [
              "                     Name        Born        Died  Age           Title  \\\n",
              "0      Franklin Roosevelt  1882-01-30  1945-04-12   63       President   \n",
              "1           Joseph Stalin  1878-12-06  1953-03-05   74    Great Leader   \n",
              "2           Adolph Hitler  1889-04-20  1945-04-30   56          Fuhrer   \n",
              "3    Michinomiya Hirohito  1901-04-29  1989-01-07   87         Emperor   \n",
              "4       Charles de Gaulle  1890-11-22  1970-11-09   79       President   \n",
              "5       Winston Churchill  1874-11-30  1965-01-24   90  Prime Minister   \n",
              "6          Manuel Camacho  1897-04-24  1955-10-13   58       President   \n",
              "7               Jan Smuts  1870-05-24  1950-09-11   80  Prime Minister   \n",
              "8                Ibn Saud  1875-01-15  1953-11-09   78            King   \n",
              "9   Plaek Phibunsongkhram  1897-07-14  1965-06-11   66  Prime Minister   \n",
              "10            John Curtin  1885-01-08  1945-07-05   60  Prime Minister   \n",
              "11         Haile Selassie  1892-07-23  1975-08-27   83         Emperor   \n",
              "\n",
              "           Country  \n",
              "0    United States  \n",
              "1     Soviet Union  \n",
              "2          Germany  \n",
              "3            Japan  \n",
              "4           France  \n",
              "5   United Kingdom  \n",
              "6           Mexico  \n",
              "7     South Africa  \n",
              "8     Saudi Arabia  \n",
              "9         Thailand  \n",
              "10       Australia  \n",
              "11        Ethiopia  "
            ],
            "text/html": [
              "\n",
              "  <div id=\"df-cc0a53dd-68b8-4c6a-b3ec-2f0cb36bd485\" class=\"colab-df-container\">\n",
              "    <div>\n",
              "<style scoped>\n",
              "    .dataframe tbody tr th:only-of-type {\n",
              "        vertical-align: middle;\n",
              "    }\n",
              "\n",
              "    .dataframe tbody tr th {\n",
              "        vertical-align: top;\n",
              "    }\n",
              "\n",
              "    .dataframe thead th {\n",
              "        text-align: right;\n",
              "    }\n",
              "</style>\n",
              "<table border=\"1\" class=\"dataframe\">\n",
              "  <thead>\n",
              "    <tr style=\"text-align: right;\">\n",
              "      <th></th>\n",
              "      <th>Name</th>\n",
              "      <th>Born</th>\n",
              "      <th>Died</th>\n",
              "      <th>Age</th>\n",
              "      <th>Title</th>\n",
              "      <th>Country</th>\n",
              "    </tr>\n",
              "  </thead>\n",
              "  <tbody>\n",
              "    <tr>\n",
              "      <th>0</th>\n",
              "      <td>Franklin Roosevelt</td>\n",
              "      <td>1882-01-30</td>\n",
              "      <td>1945-04-12</td>\n",
              "      <td>63</td>\n",
              "      <td>President</td>\n",
              "      <td>United States</td>\n",
              "    </tr>\n",
              "    <tr>\n",
              "      <th>1</th>\n",
              "      <td>Joseph Stalin</td>\n",
              "      <td>1878-12-06</td>\n",
              "      <td>1953-03-05</td>\n",
              "      <td>74</td>\n",
              "      <td>Great Leader</td>\n",
              "      <td>Soviet Union</td>\n",
              "    </tr>\n",
              "    <tr>\n",
              "      <th>2</th>\n",
              "      <td>Adolph Hitler</td>\n",
              "      <td>1889-04-20</td>\n",
              "      <td>1945-04-30</td>\n",
              "      <td>56</td>\n",
              "      <td>Fuhrer</td>\n",
              "      <td>Germany</td>\n",
              "    </tr>\n",
              "    <tr>\n",
              "      <th>3</th>\n",
              "      <td>Michinomiya Hirohito</td>\n",
              "      <td>1901-04-29</td>\n",
              "      <td>1989-01-07</td>\n",
              "      <td>87</td>\n",
              "      <td>Emperor</td>\n",
              "      <td>Japan</td>\n",
              "    </tr>\n",
              "    <tr>\n",
              "      <th>4</th>\n",
              "      <td>Charles de Gaulle</td>\n",
              "      <td>1890-11-22</td>\n",
              "      <td>1970-11-09</td>\n",
              "      <td>79</td>\n",
              "      <td>President</td>\n",
              "      <td>France</td>\n",
              "    </tr>\n",
              "    <tr>\n",
              "      <th>5</th>\n",
              "      <td>Winston Churchill</td>\n",
              "      <td>1874-11-30</td>\n",
              "      <td>1965-01-24</td>\n",
              "      <td>90</td>\n",
              "      <td>Prime Minister</td>\n",
              "      <td>United Kingdom</td>\n",
              "    </tr>\n",
              "    <tr>\n",
              "      <th>6</th>\n",
              "      <td>Manuel Camacho</td>\n",
              "      <td>1897-04-24</td>\n",
              "      <td>1955-10-13</td>\n",
              "      <td>58</td>\n",
              "      <td>President</td>\n",
              "      <td>Mexico</td>\n",
              "    </tr>\n",
              "    <tr>\n",
              "      <th>7</th>\n",
              "      <td>Jan Smuts</td>\n",
              "      <td>1870-05-24</td>\n",
              "      <td>1950-09-11</td>\n",
              "      <td>80</td>\n",
              "      <td>Prime Minister</td>\n",
              "      <td>South Africa</td>\n",
              "    </tr>\n",
              "    <tr>\n",
              "      <th>8</th>\n",
              "      <td>Ibn Saud</td>\n",
              "      <td>1875-01-15</td>\n",
              "      <td>1953-11-09</td>\n",
              "      <td>78</td>\n",
              "      <td>King</td>\n",
              "      <td>Saudi Arabia</td>\n",
              "    </tr>\n",
              "    <tr>\n",
              "      <th>9</th>\n",
              "      <td>Plaek Phibunsongkhram</td>\n",
              "      <td>1897-07-14</td>\n",
              "      <td>1965-06-11</td>\n",
              "      <td>66</td>\n",
              "      <td>Prime Minister</td>\n",
              "      <td>Thailand</td>\n",
              "    </tr>\n",
              "    <tr>\n",
              "      <th>10</th>\n",
              "      <td>John Curtin</td>\n",
              "      <td>1885-01-08</td>\n",
              "      <td>1945-07-05</td>\n",
              "      <td>60</td>\n",
              "      <td>Prime Minister</td>\n",
              "      <td>Australia</td>\n",
              "    </tr>\n",
              "    <tr>\n",
              "      <th>11</th>\n",
              "      <td>Haile Selassie</td>\n",
              "      <td>1892-07-23</td>\n",
              "      <td>1975-08-27</td>\n",
              "      <td>83</td>\n",
              "      <td>Emperor</td>\n",
              "      <td>Ethiopia</td>\n",
              "    </tr>\n",
              "  </tbody>\n",
              "</table>\n",
              "</div>\n",
              "    <div class=\"colab-df-buttons\">\n",
              "\n",
              "  <div class=\"colab-df-container\">\n",
              "    <button class=\"colab-df-convert\" onclick=\"convertToInteractive('df-cc0a53dd-68b8-4c6a-b3ec-2f0cb36bd485')\"\n",
              "            title=\"Convert this dataframe to an interactive table.\"\n",
              "            style=\"display:none;\">\n",
              "\n",
              "  <svg xmlns=\"http://www.w3.org/2000/svg\" height=\"24px\" viewBox=\"0 -960 960 960\">\n",
              "    <path d=\"M120-120v-720h720v720H120Zm60-500h600v-160H180v160Zm220 220h160v-160H400v160Zm0 220h160v-160H400v160ZM180-400h160v-160H180v160Zm440 0h160v-160H620v160ZM180-180h160v-160H180v160Zm440 0h160v-160H620v160Z\"/>\n",
              "  </svg>\n",
              "    </button>\n",
              "\n",
              "  <style>\n",
              "    .colab-df-container {\n",
              "      display:flex;\n",
              "      gap: 12px;\n",
              "    }\n",
              "\n",
              "    .colab-df-convert {\n",
              "      background-color: #E8F0FE;\n",
              "      border: none;\n",
              "      border-radius: 50%;\n",
              "      cursor: pointer;\n",
              "      display: none;\n",
              "      fill: #1967D2;\n",
              "      height: 32px;\n",
              "      padding: 0 0 0 0;\n",
              "      width: 32px;\n",
              "    }\n",
              "\n",
              "    .colab-df-convert:hover {\n",
              "      background-color: #E2EBFA;\n",
              "      box-shadow: 0px 1px 2px rgba(60, 64, 67, 0.3), 0px 1px 3px 1px rgba(60, 64, 67, 0.15);\n",
              "      fill: #174EA6;\n",
              "    }\n",
              "\n",
              "    .colab-df-buttons div {\n",
              "      margin-bottom: 4px;\n",
              "    }\n",
              "\n",
              "    [theme=dark] .colab-df-convert {\n",
              "      background-color: #3B4455;\n",
              "      fill: #D2E3FC;\n",
              "    }\n",
              "\n",
              "    [theme=dark] .colab-df-convert:hover {\n",
              "      background-color: #434B5C;\n",
              "      box-shadow: 0px 1px 3px 1px rgba(0, 0, 0, 0.15);\n",
              "      filter: drop-shadow(0px 1px 2px rgba(0, 0, 0, 0.3));\n",
              "      fill: #FFFFFF;\n",
              "    }\n",
              "  </style>\n",
              "\n",
              "    <script>\n",
              "      const buttonEl =\n",
              "        document.querySelector('#df-cc0a53dd-68b8-4c6a-b3ec-2f0cb36bd485 button.colab-df-convert');\n",
              "      buttonEl.style.display =\n",
              "        google.colab.kernel.accessAllowed ? 'block' : 'none';\n",
              "\n",
              "      async function convertToInteractive(key) {\n",
              "        const element = document.querySelector('#df-cc0a53dd-68b8-4c6a-b3ec-2f0cb36bd485');\n",
              "        const dataTable =\n",
              "          await google.colab.kernel.invokeFunction('convertToInteractive',\n",
              "                                                    [key], {});\n",
              "        if (!dataTable) return;\n",
              "\n",
              "        const docLinkHtml = 'Like what you see? Visit the ' +\n",
              "          '<a target=\"_blank\" href=https://colab.research.google.com/notebooks/data_table.ipynb>data table notebook</a>'\n",
              "          + ' to learn more about interactive tables.';\n",
              "        element.innerHTML = '';\n",
              "        dataTable['output_type'] = 'display_data';\n",
              "        await google.colab.output.renderOutput(dataTable, element);\n",
              "        const docLink = document.createElement('div');\n",
              "        docLink.innerHTML = docLinkHtml;\n",
              "        element.appendChild(docLink);\n",
              "      }\n",
              "    </script>\n",
              "  </div>\n",
              "\n",
              "\n",
              "    <div id=\"df-191a76c3-d6e7-43d4-8bf5-80f6c16da1b6\">\n",
              "      <button class=\"colab-df-quickchart\" onclick=\"quickchart('df-191a76c3-d6e7-43d4-8bf5-80f6c16da1b6')\"\n",
              "                title=\"Suggest charts\"\n",
              "                style=\"display:none;\">\n",
              "\n",
              "<svg xmlns=\"http://www.w3.org/2000/svg\" height=\"24px\"viewBox=\"0 0 24 24\"\n",
              "     width=\"24px\">\n",
              "    <g>\n",
              "        <path d=\"M19 3H5c-1.1 0-2 .9-2 2v14c0 1.1.9 2 2 2h14c1.1 0 2-.9 2-2V5c0-1.1-.9-2-2-2zM9 17H7v-7h2v7zm4 0h-2V7h2v10zm4 0h-2v-4h2v4z\"/>\n",
              "    </g>\n",
              "</svg>\n",
              "      </button>\n",
              "\n",
              "<style>\n",
              "  .colab-df-quickchart {\n",
              "      --bg-color: #E8F0FE;\n",
              "      --fill-color: #1967D2;\n",
              "      --hover-bg-color: #E2EBFA;\n",
              "      --hover-fill-color: #174EA6;\n",
              "      --disabled-fill-color: #AAA;\n",
              "      --disabled-bg-color: #DDD;\n",
              "  }\n",
              "\n",
              "  [theme=dark] .colab-df-quickchart {\n",
              "      --bg-color: #3B4455;\n",
              "      --fill-color: #D2E3FC;\n",
              "      --hover-bg-color: #434B5C;\n",
              "      --hover-fill-color: #FFFFFF;\n",
              "      --disabled-bg-color: #3B4455;\n",
              "      --disabled-fill-color: #666;\n",
              "  }\n",
              "\n",
              "  .colab-df-quickchart {\n",
              "    background-color: var(--bg-color);\n",
              "    border: none;\n",
              "    border-radius: 50%;\n",
              "    cursor: pointer;\n",
              "    display: none;\n",
              "    fill: var(--fill-color);\n",
              "    height: 32px;\n",
              "    padding: 0;\n",
              "    width: 32px;\n",
              "  }\n",
              "\n",
              "  .colab-df-quickchart:hover {\n",
              "    background-color: var(--hover-bg-color);\n",
              "    box-shadow: 0 1px 2px rgba(60, 64, 67, 0.3), 0 1px 3px 1px rgba(60, 64, 67, 0.15);\n",
              "    fill: var(--button-hover-fill-color);\n",
              "  }\n",
              "\n",
              "  .colab-df-quickchart-complete:disabled,\n",
              "  .colab-df-quickchart-complete:disabled:hover {\n",
              "    background-color: var(--disabled-bg-color);\n",
              "    fill: var(--disabled-fill-color);\n",
              "    box-shadow: none;\n",
              "  }\n",
              "\n",
              "  .colab-df-spinner {\n",
              "    border: 2px solid var(--fill-color);\n",
              "    border-color: transparent;\n",
              "    border-bottom-color: var(--fill-color);\n",
              "    animation:\n",
              "      spin 1s steps(1) infinite;\n",
              "  }\n",
              "\n",
              "  @keyframes spin {\n",
              "    0% {\n",
              "      border-color: transparent;\n",
              "      border-bottom-color: var(--fill-color);\n",
              "      border-left-color: var(--fill-color);\n",
              "    }\n",
              "    20% {\n",
              "      border-color: transparent;\n",
              "      border-left-color: var(--fill-color);\n",
              "      border-top-color: var(--fill-color);\n",
              "    }\n",
              "    30% {\n",
              "      border-color: transparent;\n",
              "      border-left-color: var(--fill-color);\n",
              "      border-top-color: var(--fill-color);\n",
              "      border-right-color: var(--fill-color);\n",
              "    }\n",
              "    40% {\n",
              "      border-color: transparent;\n",
              "      border-right-color: var(--fill-color);\n",
              "      border-top-color: var(--fill-color);\n",
              "    }\n",
              "    60% {\n",
              "      border-color: transparent;\n",
              "      border-right-color: var(--fill-color);\n",
              "    }\n",
              "    80% {\n",
              "      border-color: transparent;\n",
              "      border-right-color: var(--fill-color);\n",
              "      border-bottom-color: var(--fill-color);\n",
              "    }\n",
              "    90% {\n",
              "      border-color: transparent;\n",
              "      border-bottom-color: var(--fill-color);\n",
              "    }\n",
              "  }\n",
              "</style>\n",
              "\n",
              "      <script>\n",
              "        async function quickchart(key) {\n",
              "          const quickchartButtonEl =\n",
              "            document.querySelector('#' + key + ' button');\n",
              "          quickchartButtonEl.disabled = true;  // To prevent multiple clicks.\n",
              "          quickchartButtonEl.classList.add('colab-df-spinner');\n",
              "          try {\n",
              "            const charts = await google.colab.kernel.invokeFunction(\n",
              "                'suggestCharts', [key], {});\n",
              "          } catch (error) {\n",
              "            console.error('Error during call to suggestCharts:', error);\n",
              "          }\n",
              "          quickchartButtonEl.classList.remove('colab-df-spinner');\n",
              "          quickchartButtonEl.classList.add('colab-df-quickchart-complete');\n",
              "        }\n",
              "        (() => {\n",
              "          let quickchartButtonEl =\n",
              "            document.querySelector('#df-191a76c3-d6e7-43d4-8bf5-80f6c16da1b6 button');\n",
              "          quickchartButtonEl.style.display =\n",
              "            google.colab.kernel.accessAllowed ? 'block' : 'none';\n",
              "        })();\n",
              "      </script>\n",
              "    </div>\n",
              "\n",
              "  <div id=\"id_5e52f898-5cb6-42e3-9ac6-e6c8c3b1c5bb\">\n",
              "    <style>\n",
              "      .colab-df-generate {\n",
              "        background-color: #E8F0FE;\n",
              "        border: none;\n",
              "        border-radius: 50%;\n",
              "        cursor: pointer;\n",
              "        display: none;\n",
              "        fill: #1967D2;\n",
              "        height: 32px;\n",
              "        padding: 0 0 0 0;\n",
              "        width: 32px;\n",
              "      }\n",
              "\n",
              "      .colab-df-generate:hover {\n",
              "        background-color: #E2EBFA;\n",
              "        box-shadow: 0px 1px 2px rgba(60, 64, 67, 0.3), 0px 1px 3px 1px rgba(60, 64, 67, 0.15);\n",
              "        fill: #174EA6;\n",
              "      }\n",
              "\n",
              "      [theme=dark] .colab-df-generate {\n",
              "        background-color: #3B4455;\n",
              "        fill: #D2E3FC;\n",
              "      }\n",
              "\n",
              "      [theme=dark] .colab-df-generate:hover {\n",
              "        background-color: #434B5C;\n",
              "        box-shadow: 0px 1px 3px 1px rgba(0, 0, 0, 0.15);\n",
              "        filter: drop-shadow(0px 1px 2px rgba(0, 0, 0, 0.3));\n",
              "        fill: #FFFFFF;\n",
              "      }\n",
              "    </style>\n",
              "    <button class=\"colab-df-generate\" onclick=\"generateWithVariable('df')\"\n",
              "            title=\"Generate code using this dataframe.\"\n",
              "            style=\"display:none;\">\n",
              "\n",
              "  <svg xmlns=\"http://www.w3.org/2000/svg\" height=\"24px\"viewBox=\"0 0 24 24\"\n",
              "       width=\"24px\">\n",
              "    <path d=\"M7,19H8.4L18.45,9,17,7.55,7,17.6ZM5,21V16.75L18.45,3.32a2,2,0,0,1,2.83,0l1.4,1.43a1.91,1.91,0,0,1,.58,1.4,1.91,1.91,0,0,1-.58,1.4L9.25,21ZM18.45,9,17,7.55Zm-12,3A5.31,5.31,0,0,0,4.9,8.1,5.31,5.31,0,0,0,1,6.5,5.31,5.31,0,0,0,4.9,4.9,5.31,5.31,0,0,0,6.5,1,5.31,5.31,0,0,0,8.1,4.9,5.31,5.31,0,0,0,12,6.5,5.46,5.46,0,0,0,6.5,12Z\"/>\n",
              "  </svg>\n",
              "    </button>\n",
              "    <script>\n",
              "      (() => {\n",
              "      const buttonEl =\n",
              "        document.querySelector('#id_5e52f898-5cb6-42e3-9ac6-e6c8c3b1c5bb button.colab-df-generate');\n",
              "      buttonEl.style.display =\n",
              "        google.colab.kernel.accessAllowed ? 'block' : 'none';\n",
              "\n",
              "      buttonEl.onclick = () => {\n",
              "        google.colab.notebook.generateWithVariable('df');\n",
              "      }\n",
              "      })();\n",
              "    </script>\n",
              "  </div>\n",
              "\n",
              "    </div>\n",
              "  </div>\n"
            ],
            "application/vnd.google.colaboratory.intrinsic+json": {
              "type": "dataframe",
              "variable_name": "df",
              "summary": "{\n  \"name\": \"df\",\n  \"rows\": 12,\n  \"fields\": [\n    {\n      \"column\": \"Name\",\n      \"properties\": {\n        \"dtype\": \"string\",\n        \"num_unique_values\": 12,\n        \"samples\": [\n          \"John Curtin\",\n          \"Plaek Phibunsongkhram\",\n          \"Franklin Roosevelt\"\n        ],\n        \"semantic_type\": \"\",\n        \"description\": \"\"\n      }\n    },\n    {\n      \"column\": \"Born\",\n      \"properties\": {\n        \"dtype\": \"object\",\n        \"num_unique_values\": 12,\n        \"samples\": [\n          \"1885-01-08\",\n          \"1897-07-14\",\n          \"1882-01-30\"\n        ],\n        \"semantic_type\": \"\",\n        \"description\": \"\"\n      }\n    },\n    {\n      \"column\": \"Died\",\n      \"properties\": {\n        \"dtype\": \"object\",\n        \"num_unique_values\": 12,\n        \"samples\": [\n          \"1945-07-05\",\n          \"1965-06-11\",\n          \"1945-04-12\"\n        ],\n        \"semantic_type\": \"\",\n        \"description\": \"\"\n      }\n    },\n    {\n      \"column\": \"Age\",\n      \"properties\": {\n        \"dtype\": \"number\",\n        \"std\": 11,\n        \"min\": 56,\n        \"max\": 90,\n        \"num_unique_values\": 12,\n        \"samples\": [\n          60,\n          66,\n          63\n        ],\n        \"semantic_type\": \"\",\n        \"description\": \"\"\n      }\n    },\n    {\n      \"column\": \"Title\",\n      \"properties\": {\n        \"dtype\": \"string\",\n        \"num_unique_values\": 6,\n        \"samples\": [\n          \"President\",\n          \"Great Leader\",\n          \"King\"\n        ],\n        \"semantic_type\": \"\",\n        \"description\": \"\"\n      }\n    },\n    {\n      \"column\": \"Country\",\n      \"properties\": {\n        \"dtype\": \"string\",\n        \"num_unique_values\": 12,\n        \"samples\": [\n          \"Australia\",\n          \"Thailand\",\n          \"United States\"\n        ],\n        \"semantic_type\": \"\",\n        \"description\": \"\"\n      }\n    }\n  ]\n}"
            }
          },
          "metadata": {},
          "execution_count": 16
        }
      ]
    },
    {
      "cell_type": "markdown",
      "source": [
        "Recall that a Pandas data frame is a two-dimensional collection made up of rows and columns. Conceptually a data frame row is equivalent to a Pandas series. Using the *loc[]* method, we can index a row and provision a new series with it."
      ],
      "metadata": {
        "id": "He2Me7rMftkH"
      }
    },
    {
      "cell_type": "code",
      "source": [
        "deGaule = 4\n",
        "s = pd.Series(df.loc[deGaule])\n",
        "print(f\"{s}\\n\\nType of s: {type(s)}\")"
      ],
      "metadata": {
        "colab": {
          "base_uri": "https://localhost:8080/"
        },
        "id": "kWwDs_aje8R9",
        "outputId": "9a8ea1c5-f4ab-4997-c831-bd460b5ffb55"
      },
      "execution_count": 34,
      "outputs": [
        {
          "output_type": "stream",
          "name": "stdout",
          "text": [
            "Name       Charles de Gaulle\n",
            "Born              1890-11-22\n",
            "Died              1970-11-09\n",
            "Age                       79\n",
            "Title              President\n",
            "Country               France\n",
            "Name: 4, dtype: object\n",
            "\n",
            "Type of s: <class 'pandas.core.series.Series'>\n"
          ]
        }
      ]
    },
    {
      "cell_type": "markdown",
      "source": [
        "A series is made up of a collection of labels (column indices) and a collection of elements (rows). We use the *keys()* method and the *values* attribute to retrieve each list accordingly. Just like arrays in Python, we can index into specific elements in the keys and values of a series."
      ],
      "metadata": {
        "id": "kNduu_YMgbwh"
      }
    },
    {
      "cell_type": "code",
      "source": [
        "print(f\"{s.keys()}\\n\\n{s.keys()[0]}\\n{s.keys()[3]}\")"
      ],
      "metadata": {
        "colab": {
          "base_uri": "https://localhost:8080/"
        },
        "id": "ipRcQK4Ighvk",
        "outputId": "9d782e95-d5a8-4c5b-af7b-9d89c54a5346"
      },
      "execution_count": 18,
      "outputs": [
        {
          "output_type": "stream",
          "name": "stdout",
          "text": [
            "Index(['Name', 'Born', 'Died', 'Age', 'Title', 'Country'], dtype='object')\n",
            "\n",
            "Name\n",
            "Age\n"
          ]
        }
      ]
    },
    {
      "cell_type": "code",
      "source": [
        "print(s.values)"
      ],
      "metadata": {
        "colab": {
          "base_uri": "https://localhost:8080/"
        },
        "id": "I_izvORDgltQ",
        "outputId": "af34b069-5796-4ec8-cf8e-593e4e8cfcdb"
      },
      "execution_count": 21,
      "outputs": [
        {
          "output_type": "stream",
          "name": "stdout",
          "text": [
            "['Charles de Gaulle' '1890-11-22' '1970-11-09' np.int64(79) 'President'\n",
            " 'France']\n"
          ]
        }
      ]
    },
    {
      "cell_type": "code",
      "source": [
        "print(f\"Name:\\t\\t{s.values[0]}\\nCountry:\\t{s.values[5]}\\nAge:\\t\\t{s.values[3]}\")"
      ],
      "metadata": {
        "colab": {
          "base_uri": "https://localhost:8080/"
        },
        "id": "hx3sh-BYcnXV",
        "outputId": "30546470-44a6-4a6a-e3cb-88fdbc12f702"
      },
      "execution_count": 29,
      "outputs": [
        {
          "output_type": "stream",
          "name": "stdout",
          "text": [
            "Name:\t\tCharles de Gaulle\n",
            "Country:\tFrance\n",
            "Age:\t\t79\n"
          ]
        }
      ]
    },
    {
      "cell_type": "markdown",
      "source": [
        "Can we create our own series object on the fly? Yes, by using Panda's *Series()* method and passing as parameters a list of values."
      ],
      "metadata": {
        "id": "5qfyBP8id4Lx"
      }
    },
    {
      "cell_type": "code",
      "source": [
        "s = pd.Series(['AAA', 32.4907, 100])"
      ],
      "metadata": {
        "id": "RBR5l89yeKIC"
      },
      "execution_count": 31,
      "outputs": []
    },
    {
      "cell_type": "code",
      "source": [
        "print(f\"{s}\\n\\nType of s: {type(s)}\")"
      ],
      "metadata": {
        "colab": {
          "base_uri": "https://localhost:8080/"
        },
        "id": "sAxfeB34eXLk",
        "outputId": "a46c66ac-a5e1-4c12-cc1f-f4e1c8a552dc"
      },
      "execution_count": 39,
      "outputs": [
        {
          "output_type": "stream",
          "name": "stdout",
          "text": [
            "word           AAA\n",
            "float      32.4907\n",
            "integer        100\n",
            "dtype: object\n",
            "\n",
            "Type of s: <class 'pandas.core.series.Series'>\n"
          ]
        }
      ]
    },
    {
      "cell_type": "markdown",
      "source": [
        "By default Pandas will assign integers as indices or labels to the series we've just created. If we wanted to provision a series and specify the labels, we do so by passing a second parameter to *Series()*."
      ],
      "metadata": {
        "id": "PJGZvVyGeu4j"
      }
    },
    {
      "cell_type": "code",
      "source": [
        "s = pd.Series(['AAA', 32.4907, 100], index=['word', 'float', 'integer'])"
      ],
      "metadata": {
        "id": "m_W6haAte_Yq"
      },
      "execution_count": 35,
      "outputs": []
    },
    {
      "cell_type": "code",
      "source": [
        "print(f\"{s}\\n\\nType of s: {type(s)}\")"
      ],
      "metadata": {
        "colab": {
          "base_uri": "https://localhost:8080/"
        },
        "id": "Twb4gW3gfJFP",
        "outputId": "0d9a04f1-be03-4613-f679-23daad41c124"
      },
      "execution_count": 38,
      "outputs": [
        {
          "output_type": "stream",
          "name": "stdout",
          "text": [
            "word           AAA\n",
            "float      32.4907\n",
            "integer        100\n",
            "dtype: object\n",
            "\n",
            "Type of s: <class 'pandas.core.series.Series'>\n"
          ]
        }
      ]
    }
  ]
}